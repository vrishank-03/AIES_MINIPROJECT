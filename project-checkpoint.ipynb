{
 "cells": [
  {
   "cell_type": "markdown",
   "id": "68b027d6",
   "metadata": {},
   "source": [
    "## Collecting data"
   ]
  },
  {
   "cell_type": "code",
   "execution_count": 1,
   "id": "8e244d64",
   "metadata": {},
   "outputs": [
    {
     "name": "stdout",
     "output_type": "stream",
     "text": [
      "Collecting data for class Hello\n",
      "Collecting data for class Yes\n",
      "Collecting data for class No\n",
      "Collecting data for class Thank you\n",
      "Collecting data for class Sorry\n",
      "Collecting data for class Okay\n",
      "Collecting data for class Feel\n",
      "Collecting data for class I love you\n",
      "Collecting data for class Fly\n",
      "Collecting data for class Why\n"
     ]
    }
   ],
   "source": [
    "import os\n",
    "import cv2\n",
    "\n",
    "DATA_DIR = './data'\n",
    "if not os.path.exists(DATA_DIR):\n",
    "    os.makedirs(DATA_DIR)\n",
    "\n",
    "classes = [\"Hello\", \"Yes\", \"No\", \"Thank you\", \"Sorry\", \"Okay\", \"Feel\", \"I love you\", \"Fly\", \"Why\" ]\n",
    "dataset_size = 100\n",
    "\n",
    "cap = cv2.VideoCapture(0)  # Try different indices if needed (0, 1, 2, ...)\n",
    "\n",
    "# Wait for the camera to initialize (2 seconds)\n",
    "cv2.waitKey(2000)\n",
    "\n",
    "for j, class_name in enumerate(classes):\n",
    "    if not os.path.exists(os.path.join(DATA_DIR, class_name)):\n",
    "        os.makedirs(os.path.join(DATA_DIR, class_name))\n",
    "\n",
    "    print('Collecting data for class {}'.format(class_name))\n",
    "\n",
    "    done = False\n",
    "    while True:\n",
    "        ret, frame = cap.read()\n",
    "        cv2.putText(frame, 'Ready? Press \"Q\" ! :)', (100, 50), cv2.FONT_HERSHEY_SIMPLEX, 1.3, (0, 255, 0), 3,\n",
    "                    cv2.LINE_AA)\n",
    "        cv2.imshow('frame', frame)\n",
    "        if cv2.waitKey(25) == ord('q'):\n",
    "            break\n",
    "\n",
    "    counter = 0\n",
    "    while counter < dataset_size:\n",
    "        ret, frame = cap.read()\n",
    "        cv2.imshow('frame', frame)\n",
    "        cv2.waitKey(25)\n",
    "        cv2.imwrite(os.path.join(DATA_DIR, class_name, '{}.jpg'.format(counter)), frame)\n",
    "\n",
    "        counter += 1\n",
    "\n",
    "cap.release()\n",
    "cv2.destroyAllWindows()"
   ]
  },
  {
   "cell_type": "markdown",
   "id": "a8448dd8",
   "metadata": {},
   "source": [
    "## Making landmark pickle"
   ]
  },
  {
   "cell_type": "code",
   "execution_count": 2,
   "id": "c40308ef",
   "metadata": {},
   "outputs": [
    {
     "name": "stdout",
     "output_type": "stream",
     "text": [
      "WARNING:tensorflow:From C:\\Users\\aditi\\anaconda3\\Lib\\site-packages\\keras\\src\\losses.py:2976: The name tf.losses.sparse_softmax_cross_entropy is deprecated. Please use tf.compat.v1.losses.sparse_softmax_cross_entropy instead.\n",
      "\n"
     ]
    }
   ],
   "source": [
    "import os\n",
    "import pickle\n",
    "import mediapipe as mp\n",
    "import cv2\n",
    "\n",
    "mp_hands = mp.solutions.hands\n",
    "\n",
    "hands = mp_hands.Hands(static_image_mode=True, min_detection_confidence=0.3)\n",
    "\n",
    "DATA_DIR = 'data'\n",
    "\n",
    "data = []\n",
    "labels = []\n",
    "\n",
    "classes = [\"Hello\", \"Yes\", \"No\", \"Thank you\", \"Sorry\", \"Okay\", \"Feel\", \"I love you\", \"Fly\", \"Why\" ]\n",
    "\n",
    "for class_name in classes:\n",
    "    class_dir = os.path.join(DATA_DIR, class_name)\n",
    "    for img_path in os.listdir(class_dir):\n",
    "        # Ensure the current item is a file\n",
    "        if not os.path.isfile(os.path.join(class_dir, img_path)):\n",
    "            continue  # Skip directories or non-files\n",
    "\n",
    "        data_aux = []\n",
    "        x_ = []\n",
    "        y_ = []\n",
    "\n",
    "        img = cv2.imread(os.path.join(class_dir, img_path))\n",
    "        if img is None:\n",
    "            print(f\"Error reading {os.path.join(class_dir, img_path)}. Skipping...\")\n",
    "            continue  # Skip processing this image and continue with the next one\n",
    "\n",
    "        img_rgb = cv2.cvtColor(img, cv2.COLOR_BGR2RGB)\n",
    "\n",
    "        results = hands.process(img_rgb)\n",
    "        if results.multi_hand_landmarks:\n",
    "            for hand_landmarks in results.multi_hand_landmarks:\n",
    "                for i in range(len(hand_landmarks.landmark)):\n",
    "                    x = hand_landmarks.landmark[i].x\n",
    "                    y = hand_landmarks.landmark[i].y\n",
    "                    x_.append(x)\n",
    "                    y_.append(y)\n",
    "\n",
    "            for i in range(len(hand_landmarks.landmark)):\n",
    "                x = hand_landmarks.landmark[i].x\n",
    "                y = hand_landmarks.landmark[i].y\n",
    "                data_aux.append(x - min(x_))\n",
    "                data_aux.append(y - min(y_))\n",
    "\n",
    "            data.append(data_aux)\n",
    "            labels.append(class_name)\n",
    "\n",
    "hands.close()\n",
    "\n",
    "# Saving the hand landmarks data to a pickle file\n",
    "with open('hand_landmarks.pickle', 'wb') as f:\n",
    "    pickle.dump({'data': data, 'labels': labels}, f)"
   ]
  },
  {
   "cell_type": "markdown",
   "id": "486feecd",
   "metadata": {},
   "source": [
    "## Verification"
   ]
  },
  {
   "cell_type": "code",
   "execution_count": null,
   "id": "e0c7e445",
   "metadata": {},
   "outputs": [
    {
     "name": "stdout",
     "output_type": "stream",
     "text": [
      "WARNING:tensorflow:From C:\\Users\\aditi\\anaconda3\\Lib\\site-packages\\keras\\src\\losses.py:2976: The name tf.losses.sparse_softmax_cross_entropy is deprecated. Please use tf.compat.v1.losses.sparse_softmax_cross_entropy instead.\n",
      "\n"
     ]
    }
   ],
   "source": [
    "import os\n",
    "import pickle\n",
    "import mediapipe as mp\n",
    "import cv2\n",
    "\n",
    "mp_hands = mp.solutions.hands\n",
    "mp_drawing = mp.solutions.drawing_utils  # Importing the drawing utilities\n",
    "\n",
    "hands = mp_hands.Hands(static_image_mode=False, max_num_hands=2, min_detection_confidence=0.5)\n",
    "\n",
    "DATA_DIR = 'data'\n",
    "\n",
    "classes = [\"Hello\", \"Yes\", \"No\", \"Thank you\", \"Sorry\", \"Okay\", \"Feel\", \"I love you\", \"Fly\", \"Why\" ]\n",
    "\n",
    "for class_name in classes:\n",
    "    class_dir = os.path.join(DATA_DIR, class_name)\n",
    "    for img_path in os.listdir(class_dir):\n",
    "        img = cv2.imread(os.path.join(class_dir, img_path))\n",
    "        if img is None:\n",
    "            print(f\"Error reading {os.path.join(class_dir, img_path)}. Skipping...\")\n",
    "            continue\n",
    "\n",
    "        img_rgb = cv2.cvtColor(img, cv2.COLOR_BGR2RGB)\n",
    "\n",
    "        results = hands.process(img_rgb)\n",
    "        if results.multi_hand_landmarks:\n",
    "            for hand_landmarks in results.multi_hand_landmarks:\n",
    "                # Draw landmarks on the image\n",
    "                mp_drawing.draw_landmarks(\n",
    "                    img, hand_landmarks, mp_hands.HAND_CONNECTIONS)\n",
    "\n",
    "            # Display the image with landmarks\n",
    "            cv2.imshow(f\"{class_name} - {img_path}\", img)\n",
    "            cv2.waitKey(0)\n",
    "            cv2.destroyAllWindows()\n",
    "\n",
    "hands.close()"
   ]
  },
  {
   "cell_type": "markdown",
   "id": "216dd0ab",
   "metadata": {},
   "source": [
    "## Training"
   ]
  },
  {
   "cell_type": "code",
   "execution_count": 7,
   "id": "502af4cc",
   "metadata": {},
   "outputs": [
    {
     "name": "stdout",
     "output_type": "stream",
     "text": [
      "100.0% of samples were classified correctly!\n"
     ]
    }
   ],
   "source": [
    "import pickle\n",
    "from sklearn.ensemble import RandomForestClassifier\n",
    "from sklearn.model_selection import train_test_split\n",
    "from sklearn.metrics import accuracy_score\n",
    "import numpy as np\n",
    "\n",
    "# Load the hand landmarks data extracted earlier\n",
    "with open('hand_landmarks.pickle', 'rb') as f:\n",
    "    data_dict = pickle.load(f)\n",
    "\n",
    "data = np.asarray(data_dict['data'])\n",
    "labels = np.asarray(data_dict['labels'])\n",
    "\n",
    "# Split the data into training and testing sets\n",
    "x_train, x_test, y_train, y_test = train_test_split(data, labels, test_size=0.2, shuffle=True, stratify=labels)\n",
    "\n",
    "# Initialize and train the Random Forest Classifier\n",
    "model = RandomForestClassifier()\n",
    "model.fit(x_train, y_train)\n",
    "\n",
    "# Predict labels for the test set\n",
    "y_predict = model.predict(x_test)\n",
    "\n",
    "# Evaluate the model\n",
    "score = accuracy_score(y_predict, y_test)\n",
    "print('{}% of samples were classified correctly!'.format(score * 100))\n",
    "\n",
    "# Save the trained model for later use\n",
    "with open('model.p', 'wb') as f:\n",
    "    pickle.dump({'model': model}, f)"
   ]
  },
  {
   "cell_type": "markdown",
   "id": "7124ba13",
   "metadata": {},
   "source": [
    "## Testing"
   ]
  },
  {
   "cell_type": "code",
   "execution_count": null,
   "id": "db032861",
   "metadata": {},
   "outputs": [
    {
     "name": "stdout",
     "output_type": "stream",
     "text": [
      "WARNING:tensorflow:From C:\\Users\\aditi\\anaconda3\\Lib\\site-packages\\keras\\src\\losses.py:2976: The name tf.losses.sparse_softmax_cross_entropy is deprecated. Please use tf.compat.v1.losses.sparse_softmax_cross_entropy instead.\n",
      "\n"
     ]
    }
   ],
   "source": [
    "import pickle\n",
    "import cv2\n",
    "import mediapipe as mp\n",
    "import numpy as np\n",
    "\n",
    "model_dict = pickle.load(open('model.p', 'rb'))\n",
    "model = model_dict['model']\n",
    "\n",
    "cap = cv2.VideoCapture(0)\n",
    "\n",
    "if not cap.isOpened():\n",
    "    print(\"Error opening video capture.\")\n",
    "    exit()\n",
    "\n",
    "mp_hands = mp.solutions.hands\n",
    "mp_drawing = mp.solutions.drawing_utils\n",
    "mp_drawing_styles = mp.solutions.drawing_styles\n",
    "\n",
    "hands = mp_hands.Hands(static_image_mode=False, max_num_hands=2, min_detection_confidence=0.5, min_tracking_confidence=0.5)\n",
    "\n",
    "labels_dict = {0: 'Hello', 1: 'Yes', 2: 'No', 3: 'Thank you', 4: 'Sorry', 5: 'Okay', 6: 'Feel', 7: 'I love you', 8: 'Fly', 9: 'Why'}  # dictionary of classes\n",
    "\n",
    "# Reverse the labels_dict to map class names to their respective indices\n",
    "class_indices = {v: k for k, v in labels_dict.items()}\n",
    "\n",
    "while True:\n",
    "    ret, frame = cap.read()\n",
    "\n",
    "    if not ret:\n",
    "        print(\"Can't receive frame (stream end?). Exiting...\")\n",
    "        break\n",
    "\n",
    "    H, W, _ = frame.shape\n",
    "\n",
    "    frame_rgb = cv2.cvtColor(frame, cv2.COLOR_BGR2RGB)\n",
    "\n",
    "    results = hands.process(frame_rgb)\n",
    "    if results.multi_hand_landmarks:\n",
    "        for hand_landmarks in results.multi_hand_landmarks:\n",
    "            mp_drawing.draw_landmarks(\n",
    "                frame,\n",
    "                hand_landmarks,\n",
    "                mp_hands.HAND_CONNECTIONS,\n",
    "                mp_drawing_styles.get_default_hand_landmarks_style(),\n",
    "                mp_drawing_styles.get_default_hand_connections_style()\n",
    "            )\n",
    "\n",
    "            data_aux = []\n",
    "            x_ = []\n",
    "            y_ = []\n",
    "\n",
    "            for i in range(len(hand_landmarks.landmark)):\n",
    "                x = hand_landmarks.landmark[i].x\n",
    "                y = hand_landmarks.landmark[i].y\n",
    "\n",
    "                x_.append(x)\n",
    "                y_.append(y)\n",
    "\n",
    "            for i in range(len(hand_landmarks.landmark)):\n",
    "                x = hand_landmarks.landmark[i].x\n",
    "                y = hand_landmarks.landmark[i].y\n",
    "                data_aux.append(x - min(x_))\n",
    "                data_aux.append(y - min(y_))\n",
    "\n",
    "            x1 = int(min(x_) * W) - 10\n",
    "            y1 = int(min(y_) * H) - 10\n",
    "\n",
    "            x2 = int(max(x_) * W) - 10\n",
    "            y2 = int(max(y_) * H) - 10\n",
    "\n",
    "            prediction = model.predict([np.asarray(data_aux)])\n",
    "\n",
    "            # Use the class_indices dictionary to map class names to their indices for dictionary lookup\n",
    "            predicted_gesture = labels_dict[class_indices[prediction[0]]]\n",
    "\n",
    "            cv2.rectangle(frame, (x1, y1), (x2, y2), (0, 0, 0), 4)\n",
    "            cv2.putText(frame, predicted_gesture, (x1, y1 - 10), cv2.FONT_HERSHEY_SIMPLEX, 1.3, (0, 0, 0), 3,\n",
    "                        cv2.LINE_AA)\n",
    "\n",
    "    cv2.imshow('frame', frame)\n",
    "    if cv2.waitKey(1) & 0xFF == ord('q'):\n",
    "        break\n",
    "\n",
    "cap.release()\n",
    "cv2.destroyAllWindows()\n",
    "\n",
    "two hands identification\n",
    "\n",
    "#labels_dict = {0: 'Hello', 1: 'Yes', 2: 'No', 3: 'Thank you', 4: 'Sorry', 5: 'Okay', 6: 'Feel', 7: 'I love you', 8: 'Fly', 9: 'Why'}  # Adjust this dictionary to your classes"
   ]
  },
  {
   "cell_type": "markdown",
   "id": "9c2db697",
   "metadata": {},
   "source": [
    "##  Distribution of Hand Landmark Coordinates"
   ]
  },
  {
   "cell_type": "code",
   "execution_count": 3,
   "id": "e62c6bb5",
   "metadata": {},
   "outputs": [
    {
     "data": {
      "image/png": "[encoded data removed]",
      "text/plain": [
       "<Figure size 1200x600 with 2 Axes>"
      ]
     },
     "metadata": {},
     "output_type": "display_data"
    }
   ],
   "source": [
    "import matplotlib.pyplot as plt\n",
    "\n",
    "x_coordinates = [coord for i, coord in enumerate(data_aux) if i % 2 == 0]  # Extract x coordinates\n",
    "y_coordinates = [coord for i, coord in enumerate(data_aux) if i % 2 != 0]  # Extract y coordinates\n",
    "\n",
    "plt.figure(figsize=(12, 6))\n",
    "\n",
    "plt.subplot(1, 2, 1)\n",
    "plt.hist(x_coordinates, bins=50, color='blue', alpha=0.7)\n",
    "plt.title('Distribution of X Coordinates')\n",
    "plt.xlabel('X Coordinate')\n",
    "plt.ylabel('Frequency')\n",
    "\n",
    "plt.subplot(1, 2, 2)\n",
    "plt.hist(y_coordinates, bins=50, color='red', alpha=0.7)\n",
    "plt.title('Distribution of Y Coordinates')\n",
    "plt.xlabel('Y Coordinate')\n",
    "plt.ylabel('Frequency')\n",
    "\n",
    "plt.tight_layout()\n",
    "plt.show()"
   ]
  },
  {
   "cell_type": "markdown",
   "id": "070d0c4a",
   "metadata": {},
   "source": [
    "## Class Distribution"
   ]
  },
  {
   "cell_type": "code",
   "execution_count": 4,
   "id": "8ce98355",
   "metadata": {},
   "outputs": [
    {
     "data": {
      "image/png": "[encoded data removed]",
      "text/plain": [
       "<Figure size 1000x600 with 1 Axes>"
      ]
     },
     "metadata": {},
     "output_type": "display_data"
    }
   ],
   "source": [
    "class_counts = {class_name: labels.count(class_name) for class_name in set(labels)}\n",
    "\n",
    "plt.figure(figsize=(10, 6))\n",
    "plt.bar(class_counts.keys(), class_counts.values(), color='green', alpha=0.7)\n",
    "plt.title('Class Distribution')\n",
    "plt.xlabel('Gesture Class')\n",
    "plt.ylabel('Count')\n",
    "plt.show()"
   ]
  },
  {
   "cell_type": "code",
   "execution_count": null,
   "id": "02bac377",
   "metadata": {},
   "outputs": [],
   "source": []
  }
 ],
 "metadata": {
  "kernelspec": {
   "display_name": "Python 3 (ipykernel)",
   "language": "python",
   "name": "python3"
  },
  "language_info": {
   "codemirror_mode": {
    "name": "ipython",
    "version": 3
   },
   "file_extension": ".py",
   "mimetype": "text/x-python",
   "name": "python",
   "nbconvert_exporter": "python",
   "pygments_lexer": "ipython3",
   "version": "3.11.5"
  }
 },
 "nbformat": 4,
 "nbformat_minor": 5
}
